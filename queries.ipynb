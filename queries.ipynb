{
 "cells": [
  {
   "cell_type": "code",
   "execution_count": 1,
   "id": "4055f7d8-1d0d-4023-a0e0-5e9a1083c7f2",
   "metadata": {},
   "outputs": [],
   "source": [
    "import sqlite3"
   ]
  },
  {
   "cell_type": "code",
   "execution_count": 2,
   "id": "5bda37a0-e4f5-4dc3-a3c4-704292124e6b",
   "metadata": {},
   "outputs": [],
   "source": [
    " with sqlite3.connect(\"data/my.db\") as conn:\n",
    "     rows = conn.execute(\"select * from dv_data limit 10;\")"
   ]
  },
  {
   "cell_type": "code",
   "execution_count": 3,
   "id": "fa43f018-32dd-408b-b6f7-aff05da67ec4",
   "metadata": {},
   "outputs": [
    {
     "name": "stdout",
     "output_type": "stream",
     "text": [
      "('5YJ3E1EB5K', 'Yakima', 'Yakima', 'WA', 98901, 2019, 'TESLA', 'MODEL 3', 'Battery Electric Vehicle (BEV)', 'Clean Alternative Fuel Vehicle Eligible', 220, 0.0, 15, 347724772, 'POINT (-120.50729 46.60464)', 'PACIFICORP', 53077001502)\n",
      "('1C4RJXU67R', 'Kitsap', 'Port Orchard', 'WA', 98367, 2024, 'JEEP', 'WRANGLER', 'Plug-in Hybrid Electric Vehicle (PHEV)', 'Not eligible due to low battery range', 21, 0.0, 35, 272165288, 'POINT (-122.68471 47.50524)', 'PUGET SOUND ENERGY INC', 53035092901)\n",
      "('KNDCD3LD0N', 'Snohomish', 'Lynnwood', 'WA', 98036, 2022, 'KIA', 'NIRO', 'Plug-in Hybrid Electric Vehicle (PHEV)', 'Not eligible due to low battery range', 26, 0.0, 32, 203182584, 'POINT (-122.29245 47.82557)', 'PUGET SOUND ENERGY INC', 53061051402)\n",
      "('5UXKT0C37H', 'King', 'Auburn', 'WA', 98001, 2017, 'BMW', 'X5', 'Plug-in Hybrid Electric Vehicle (PHEV)', 'Not eligible due to low battery range', 14, 0.0, 30, 349010287, 'POINT (-122.23035 47.3074)', 'PUGET SOUND ENERGY INC||CITY OF TACOMA - (WA)', 53033029806)\n",
      "('1N4AZ0CP1D', 'Skagit', 'Mount Vernon', 'WA', 98273, 2013, 'NISSAN', 'LEAF', 'Battery Electric Vehicle (BEV)', 'Clean Alternative Fuel Vehicle Eligible', 75, 0.0, 40, 131684150, 'POINT (-122.33891 48.41644)', 'PUGET SOUND ENERGY INC', 53057952304)\n",
      "('1N4BZ0CP8G', 'Snohomish', 'Marysville', 'WA', 98270, 2016, 'NISSAN', 'LEAF', 'Battery Electric Vehicle (BEV)', 'Clean Alternative Fuel Vehicle Eligible', 84, 0.0, 44, 256278109, 'POINT (-122.1769 48.06114)', 'PUGET SOUND ENERGY INC', 53061052710)\n",
      "('5YJSA1E26G', 'Chelan', 'Manson', 'WA', 98831, 2016, 'TESLA', 'MODEL S', 'Battery Electric Vehicle (BEV)', 'Clean Alternative Fuel Vehicle Eligible', 210, 0.0, 12, 338404888, 'POINT (-120.16034 47.8854)', 'PUD NO 1 OF CHELAN COUNTY', 53007960400)\n",
      "('7SAYGDEE7P', 'Snohomish', 'Bothell', 'WA', 98021, 2023, 'TESLA', 'MODEL Y', 'Battery Electric Vehicle (BEV)', 'Eligibility unknown as battery range has not been researched', 0, 0.0, 1, 241608608, 'POINT (-122.18384 47.8031)', 'PUGET SOUND ENERGY INC', 53061051917)\n",
      "('1N4AZ0CP5F', 'Snohomish', 'Edmonds', 'WA', 98020, 2015, 'NISSAN', 'LEAF', 'Battery Electric Vehicle (BEV)', 'Clean Alternative Fuel Vehicle Eligible', 84, 0.0, 32, 173391158, 'POINT (-122.37689 47.81116)', 'PUGET SOUND ENERGY INC', 53061050502)\n",
      "('WP1AE2A26G', 'Snohomish', 'Everett', 'WA', 98208, 2016, 'PORSCHE', 'CAYENNE', 'Plug-in Hybrid Electric Vehicle (PHEV)', 'Not eligible due to low battery range', 14, 0.0, 44, 176239570, 'POINT (-122.18637 47.89251)', 'PUGET SOUND ENERGY INC', 53061041704)\n"
     ]
    },
    {
     "data": {
      "text/plain": [
       "[None, None, None, None, None, None, None, None, None, None]"
      ]
     },
     "execution_count": 3,
     "metadata": {},
     "output_type": "execute_result"
    }
   ],
   "source": [
    "[print(row) for row in rows]"
   ]
  },
  {
   "cell_type": "code",
   "execution_count": 23,
   "id": "81ab7447-b1dd-48d6-a9ee-57879fd23068",
   "metadata": {},
   "outputs": [],
   "source": [
    "import os\n",
    "with open(\".env\", \"r\") as f:\n",
    "    for line in f:\n",
    "        if line.startswith(\"OPENAI_KEY\"):\n",
    "            os.environ['OPENAI_API_KEY'] = (line.strip().split(\"=\", 1)[1])"
   ]
  },
  {
   "cell_type": "code",
   "execution_count": 28,
   "id": "b07cdcfd-ad22-4d6f-b2d7-39a6dda234d6",
   "metadata": {},
   "outputs": [],
   "source": [
    "from langchain_mcp_adapters.client import MultiServerMCPClient\n",
    "from langgraph.prebuilt import create_react_agent\n",
    "\n",
    "client = MultiServerMCPClient(\n",
    "    {\n",
    "        \"database\": {\n",
    "            \"url\": \"http://localhost:8000/mcp\",\n",
    "            \"transport\": \"streamable_http\",\n",
    "        }\n",
    "    }\n",
    ")\n",
    "tools = await client.get_tools()\n",
    "agent = create_react_agent(\n",
    "    \"openai:gpt-5\",\n",
    "    tools\n",
    ")"
   ]
  },
  {
   "cell_type": "code",
   "execution_count": 30,
   "id": "80704a1a-5cfa-4862-8098-2958884d7fbb",
   "metadata": {},
   "outputs": [],
   "source": [
    "question = await agent.ainvoke(\n",
    "    {\"messages\": [{\"role\": \"user\", \"content\": \"what was the best selling EV in 2022?\"}]}\n",
    ")"
   ]
  },
  {
   "cell_type": "code",
   "execution_count": 31,
   "id": "d0b48ad8-7db0-4d37-a05b-e57ed9753716",
   "metadata": {},
   "outputs": [
    {
     "data": {
      "text/plain": [
       "{'messages': [HumanMessage(content='what was the best selling EV in 2022?', additional_kwargs={}, response_metadata={}, id='c2339bbb-a4eb-4995-b5f1-5d06811e51d5'),\n",
       "  AIMessage(content='Globally, the Tesla Model Y was the best‑selling electric vehicle in 2022. \\nIf you’re interested in a specific region (U.S., Europe, China, etc.), I can share the top seller there as well.', additional_kwargs={'refusal': None}, response_metadata={'token_usage': {'completion_tokens': 377, 'prompt_tokens': 230, 'total_tokens': 607, 'completion_tokens_details': {'accepted_prediction_tokens': 0, 'audio_tokens': 0, 'reasoning_tokens': 320, 'rejected_prediction_tokens': 0}, 'prompt_tokens_details': {'audio_tokens': 0, 'cached_tokens': 0}}, 'model_name': 'gpt-5-2025-08-07', 'system_fingerprint': None, 'id': 'chatcmpl-C5IjlzEMmGqe0ygX8FrQvGoqZIvxG', 'service_tier': 'default', 'finish_reason': 'stop', 'logprobs': None}, id='run--e20dec40-fa47-49de-ae14-3482b6efe7ce-0', usage_metadata={'input_tokens': 230, 'output_tokens': 377, 'total_tokens': 607, 'input_token_details': {'audio': 0, 'cache_read': 0}, 'output_token_details': {'audio': 0, 'reasoning': 320}})]}"
      ]
     },
     "execution_count": 31,
     "metadata": {},
     "output_type": "execute_result"
    }
   ],
   "source": [
    "question"
   ]
  },
  {
   "cell_type": "code",
   "execution_count": null,
   "id": "159bc996-7fd5-4892-916c-ad809f1c6027",
   "metadata": {},
   "outputs": [],
   "source": []
  }
 ],
 "metadata": {
  "kernelspec": {
   "display_name": "Python 3 (ipykernel)",
   "language": "python",
   "name": "python3"
  },
  "language_info": {
   "codemirror_mode": {
    "name": "ipython",
    "version": 3
   },
   "file_extension": ".py",
   "mimetype": "text/x-python",
   "name": "python",
   "nbconvert_exporter": "python",
   "pygments_lexer": "ipython3",
   "version": "3.12.11"
  }
 },
 "nbformat": 4,
 "nbformat_minor": 5
}
