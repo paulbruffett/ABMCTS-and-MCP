{
 "cells": [
  {
   "cell_type": "code",
   "execution_count": 9,
   "id": "4055f7d8-1d0d-4023-a0e0-5e9a1083c7f2",
   "metadata": {},
   "outputs": [],
   "source": [
    "import sqlite3"
   ]
  },
  {
   "cell_type": "code",
   "execution_count": 21,
   "id": "5bda37a0-e4f5-4dc3-a3c4-704292124e6b",
   "metadata": {},
   "outputs": [],
   "source": [
    " with sqlite3.connect(\"data/my.db\") as conn:\n",
    "     rows = conn.execute(\"select * from dv_data limit 10;\")"
   ]
  },
  {
   "cell_type": "code",
   "execution_count": 22,
   "id": "fa43f018-32dd-408b-b6f7-aff05da67ec4",
   "metadata": {},
   "outputs": [
    {
     "name": "stdout",
     "output_type": "stream",
     "text": [
      "('5YJ3E1EB5K', 'Yakima', 'Yakima', 'WA', 98901, 2019, 'TESLA', 'MODEL 3', 'Battery Electric Vehicle (BEV)', 'Clean Alternative Fuel Vehicle Eligible', 220, 0.0, 15, 347724772, 'POINT (-120.50729 46.60464)', 'PACIFICORP', 53077001502)\n",
      "('1C4RJXU67R', 'Kitsap', 'Port Orchard', 'WA', 98367, 2024, 'JEEP', 'WRANGLER', 'Plug-in Hybrid Electric Vehicle (PHEV)', 'Not eligible due to low battery range', 21, 0.0, 35, 272165288, 'POINT (-122.68471 47.50524)', 'PUGET SOUND ENERGY INC', 53035092901)\n",
      "('KNDCD3LD0N', 'Snohomish', 'Lynnwood', 'WA', 98036, 2022, 'KIA', 'NIRO', 'Plug-in Hybrid Electric Vehicle (PHEV)', 'Not eligible due to low battery range', 26, 0.0, 32, 203182584, 'POINT (-122.29245 47.82557)', 'PUGET SOUND ENERGY INC', 53061051402)\n",
      "('5UXKT0C37H', 'King', 'Auburn', 'WA', 98001, 2017, 'BMW', 'X5', 'Plug-in Hybrid Electric Vehicle (PHEV)', 'Not eligible due to low battery range', 14, 0.0, 30, 349010287, 'POINT (-122.23035 47.3074)', 'PUGET SOUND ENERGY INC||CITY OF TACOMA - (WA)', 53033029806)\n",
      "('1N4AZ0CP1D', 'Skagit', 'Mount Vernon', 'WA', 98273, 2013, 'NISSAN', 'LEAF', 'Battery Electric Vehicle (BEV)', 'Clean Alternative Fuel Vehicle Eligible', 75, 0.0, 40, 131684150, 'POINT (-122.33891 48.41644)', 'PUGET SOUND ENERGY INC', 53057952304)\n",
      "('1N4BZ0CP8G', 'Snohomish', 'Marysville', 'WA', 98270, 2016, 'NISSAN', 'LEAF', 'Battery Electric Vehicle (BEV)', 'Clean Alternative Fuel Vehicle Eligible', 84, 0.0, 44, 256278109, 'POINT (-122.1769 48.06114)', 'PUGET SOUND ENERGY INC', 53061052710)\n",
      "('5YJSA1E26G', 'Chelan', 'Manson', 'WA', 98831, 2016, 'TESLA', 'MODEL S', 'Battery Electric Vehicle (BEV)', 'Clean Alternative Fuel Vehicle Eligible', 210, 0.0, 12, 338404888, 'POINT (-120.16034 47.8854)', 'PUD NO 1 OF CHELAN COUNTY', 53007960400)\n",
      "('7SAYGDEE7P', 'Snohomish', 'Bothell', 'WA', 98021, 2023, 'TESLA', 'MODEL Y', 'Battery Electric Vehicle (BEV)', 'Eligibility unknown as battery range has not been researched', 0, 0.0, 1, 241608608, 'POINT (-122.18384 47.8031)', 'PUGET SOUND ENERGY INC', 53061051917)\n",
      "('1N4AZ0CP5F', 'Snohomish', 'Edmonds', 'WA', 98020, 2015, 'NISSAN', 'LEAF', 'Battery Electric Vehicle (BEV)', 'Clean Alternative Fuel Vehicle Eligible', 84, 0.0, 32, 173391158, 'POINT (-122.37689 47.81116)', 'PUGET SOUND ENERGY INC', 53061050502)\n",
      "('WP1AE2A26G', 'Snohomish', 'Everett', 'WA', 98208, 2016, 'PORSCHE', 'CAYENNE', 'Plug-in Hybrid Electric Vehicle (PHEV)', 'Not eligible due to low battery range', 14, 0.0, 44, 176239570, 'POINT (-122.18637 47.89251)', 'PUGET SOUND ENERGY INC', 53061041704)\n"
     ]
    },
    {
     "data": {
      "text/plain": [
       "[None, None, None, None, None, None, None, None, None, None]"
      ]
     },
     "execution_count": 22,
     "metadata": {},
     "output_type": "execute_result"
    }
   ],
   "source": [
    "[print(row) for row in rows]"
   ]
  },
  {
   "cell_type": "code",
   "execution_count": 30,
   "id": "2f1008ce-a436-4c17-a845-4aa2b145f400",
   "metadata": {},
   "outputs": [
    {
     "ename": "NameError",
     "evalue": "name 'mcp' is not defined",
     "output_type": "error",
     "traceback": [
      "\u001b[31m---------------------------------------------------------------------------\u001b[39m",
      "\u001b[31mNameError\u001b[39m                                 Traceback (most recent call last)",
      "\u001b[36mCell\u001b[39m\u001b[36m \u001b[39m\u001b[32mIn[30]\u001b[39m\u001b[32m, line 3\u001b[39m\n\u001b[32m      1\u001b[39m \u001b[38;5;28;01mfrom\u001b[39;00m\u001b[38;5;250m \u001b[39m\u001b[34;01mfastmcp\u001b[39;00m\u001b[38;5;250m \u001b[39m\u001b[38;5;28;01mimport\u001b[39;00m Client\n\u001b[32m----> \u001b[39m\u001b[32m3\u001b[39m client = Client(\u001b[43mmcp\u001b[49m)\n\u001b[32m      5\u001b[39m \u001b[38;5;28;01masync\u001b[39;00m \u001b[38;5;28;01mdef\u001b[39;00m\u001b[38;5;250m \u001b[39m\u001b[34mcall_tool\u001b[39m(name: \u001b[38;5;28mstr\u001b[39m):\n\u001b[32m      6\u001b[39m     \u001b[38;5;28;01masync\u001b[39;00m \u001b[38;5;28;01mwith\u001b[39;00m client:\n",
      "\u001b[31mNameError\u001b[39m: name 'mcp' is not defined"
     ]
    }
   ],
   "source": [
    "from fastmcp import Client\n",
    "\n",
    "client = Client(mcp)\n",
    "\n",
    "async def call_tool(name: str):\n",
    "    async with client:\n",
    "        result = await client.call_tool(\"greet\", {\"name\": name})\n",
    "        print(result)\n",
    "\n",
    "asyncio.run(call_tool(\"Ford\"))"
   ]
  },
  {
   "cell_type": "code",
   "execution_count": null,
   "id": "b07cdcfd-ad22-4d6f-b2d7-39a6dda234d6",
   "metadata": {},
   "outputs": [],
   "source": []
  }
 ],
 "metadata": {
  "kernelspec": {
   "display_name": "Python 3 (ipykernel)",
   "language": "python",
   "name": "python3"
  },
  "language_info": {
   "codemirror_mode": {
    "name": "ipython",
    "version": 3
   },
   "file_extension": ".py",
   "mimetype": "text/x-python",
   "name": "python",
   "nbconvert_exporter": "python",
   "pygments_lexer": "ipython3",
   "version": "3.12.11"
  }
 },
 "nbformat": 4,
 "nbformat_minor": 5
}
